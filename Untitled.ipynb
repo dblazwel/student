{
 "cells": [
  {
   "cell_type": "code",
   "execution_count": 4,
   "id": "dafa2616-85eb-4127-90c1-235ec7c18d66",
   "metadata": {},
   "outputs": [
    {
     "name": "stderr",
     "output_type": "stream",
     "text": [
      "ERROR: Ignored the following versions that require a different python version: 0.10.0 Requires-Python >=3.6, <3.9; 0.11.0 Requires-Python >=3.6, <3.9; 0.11.1 Requires-Python >=3.6, <3.11; 0.11.2 Requires-Python >=3.8, <3.11; 0.12.0 Requires-Python >=3.8, <3.11; 0.12.1 Requires-Python >=3.8, <3.11; 0.4.0 Requires-Python >=3.5, <3.8; 0.4.1 Requires-Python >=3.5, <3.8; 0.4.2 Requires-Python >=3.5, <3.8; 0.4.3 Requires-Python >=3.5, <3.8; 0.5.0 Requires-Python >=3.5, <3.8; 0.6.0 Requires-Python >=3.5, <3.8; 0.7.0 Requires-Python >=3.5, <3.8; 0.8.0 Requires-Python >=3.5, <3.8; 0.8.1 Requires-Python >=3.5, <3.8; 0.9.0 Requires-Python >=3.6, <3.9; 0.9.1 Requires-Python >=3.6, <3.9; 0.9.2 Requires-Python >=3.6, <3.9\n",
      "ERROR: Could not find a version that satisfies the requirement causalnex (from versions: none)\n",
      "ERROR: No matching distribution found for causalnex\n"
     ]
    },
    {
     "ename": "ModuleNotFoundError",
     "evalue": "No module named 'causalnex'",
     "output_type": "error",
     "traceback": [
      "\u001b[1;31m---------------------------------------------------------------------------\u001b[0m",
      "\u001b[1;31mModuleNotFoundError\u001b[0m                       Traceback (most recent call last)",
      "Cell \u001b[1;32mIn[4], line 3\u001b[0m\n\u001b[0;32m      1\u001b[0m get_ipython()\u001b[38;5;241m.\u001b[39msystem(\u001b[38;5;124m'\u001b[39m\u001b[38;5;124mpip install causalnex\u001b[39m\u001b[38;5;124m'\u001b[39m)\n\u001b[0;32m      2\u001b[0m \u001b[38;5;28;01mimport\u001b[39;00m \u001b[38;5;21;01mwarnings\u001b[39;00m\n\u001b[1;32m----> 3\u001b[0m \u001b[38;5;28;01mfrom\u001b[39;00m \u001b[38;5;21;01mcausalnex\u001b[39;00m\u001b[38;5;21;01m.\u001b[39;00m\u001b[38;5;21;01mstrecture\u001b[39;00m \u001b[38;5;28;01mimport\u001b[39;00m StructureModel\n",
      "\u001b[1;31mModuleNotFoundError\u001b[0m: No module named 'causalnex'"
     ]
    }
   ],
   "source": [
    "#!pip install causalnex\n",
    "import warnings\n",
    "from causalnex.strecture import StructureModel"
   ]
  }
 ],
 "metadata": {
  "kernelspec": {
   "display_name": "Python 3 (ipykernel)",
   "language": "python",
   "name": "python3"
  },
  "language_info": {
   "codemirror_mode": {
    "name": "ipython",
    "version": 3
   },
   "file_extension": ".py",
   "mimetype": "text/x-python",
   "name": "python",
   "nbconvert_exporter": "python",
   "pygments_lexer": "ipython3",
   "version": "3.12.7"
  }
 },
 "nbformat": 4,
 "nbformat_minor": 5
}
